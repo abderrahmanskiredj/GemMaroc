{
 "cells": [
  {
   "cell_type": "code",
   "execution_count": 9,
   "id": "6cf80f00-9d9b-403f-8f3d-63813b867406",
   "metadata": {},
   "outputs": [
    {
     "name": "stdout",
     "output_type": "stream",
     "text": [
      "18.0\n",
      "1032.56\n"
     ]
    }
   ],
   "source": [
    "import re\n",
    "\n",
    "def parse_llm_response(text: str) -> str:\n",
    "    \"\"\"\n",
    "    Parse an LLM response and extract the final answer.\n",
    "\n",
    "    1. If there is a '\\\\boxed{...}', extract the contents of the braces.\n",
    "    2. Otherwise, find all numeric tokens (which may include commas or dots)\n",
    "       and take the last one.\n",
    "    3. Remove any dollar signs.\n",
    "\n",
    "    Returns the extracted value as a string, or raises ValueError if nothing\n",
    "    could be found.\n",
    "    \"\"\"\n",
    "    # 1. Try to find \\boxed{...}\n",
    "    boxed = re.search(r'\\\\boxed\\{([^}]*)\\}', text)\n",
    "    if boxed:\n",
    "        answer = boxed.group(1)\n",
    "    else:\n",
    "        # 2. Find all number-like tokens: sequences of digits with optional\n",
    "        #    commas or dots (e.g. \"1,032.56\" or \"18\")\n",
    "        nums = re.findall(r'-?\\d+(?:[.,]\\d+)*', text)\n",
    "        if not nums:\n",
    "            raise ValueError(\"No boxed value or numeric token found in response.\")\n",
    "        answer = nums[-1]\n",
    "\n",
    "    # 3. Remove any dollar signs and surrounding whitespace\n",
    "    answer = answer.replace('$', '').strip().replace(',','')\n",
    "    try:\n",
    "      answer = float(answer)\n",
    "    except:\n",
    "      pass\n",
    "    return answer\n",
    "\n",
    "\n",
    "\n",
    "resp = \"\"\"Okay, let's break down this problem step by step...\n",
    "\n",
    "Final Answer: \\\\boxed{18}\"\"\"\n",
    "print(parse_llm_response(resp))   # -> \"18\"\n",
    "\n",
    "resp2 = \"We work it out, and in the end we get 1,032.56 but\"\n",
    "print(parse_llm_response(resp2))  # -> \"1,032.56\"\n"
   ]
  },
  {
   "cell_type": "code",
   "execution_count": 1,
   "id": "416c5c73-91ac-420f-9840-ce6428004c84",
   "metadata": {},
   "outputs": [
    {
     "data": {
      "text/plain": [
       "['allam_samples_gsm8k_boxed_2025-06-09T13-10-20.997147.jsonl',\n",
       " 'allam_samples_gsm8k_darija_boxed_2025-06-09T12-48-05.709892.jsonl',\n",
       " 'atlas27b_samples_gsm8k_boxed_2025-06-01T03-07-46.691518.jsonl',\n",
       " 'atlas27b_samples_gsm8k_darija_boxed_2025-06-01T02-17-44.558714.jsonl',\n",
       " 'atlas9b_samples_gsm8k_boxed_2025-06-08T15-18-05.933509.jsonl',\n",
       " 'atlas9b_samples_gsm8k_darija_boxed_2025-06-08T14-22-08.188197.jsonl',\n",
       " 'gemma327b_samples_gsm8k_boxed_2025-06-01T21-08-43.631813.jsonl',\n",
       " 'gemma327b_samples_gsm8k_darija_boxed_2025-06-01T19-15-28.814912.jsonl',\n",
       " 'gemmaroc_samples_gsm8k_boxed_2025-06-01T05-30-24.708510.jsonl',\n",
       " 'gemmaroc_samples_gsm8k_darija_boxed_2025-06-01T03-40-16.247174.jsonl']"
      ]
     },
     "execution_count": 1,
     "metadata": {},
     "output_type": "execute_result"
    }
   ],
   "source": [
    "import os\n",
    "os.listdir('gsm8k')"
   ]
  },
  {
   "cell_type": "code",
   "execution_count": 10,
   "id": "ff1f7892-48ba-43e9-9526-16543ce8f7e8",
   "metadata": {},
   "outputs": [
    {
     "name": "stdout",
     "output_type": "stream",
     "text": [
      "allam_samples_gsm8k_boxed_2025-06-09T13-10-20.997147.jsonl\n",
      "nb of invalid parsing: 0\n",
      "score: 0.686125852918878\n",
      "--------\n",
      "allam_samples_gsm8k_darija_boxed_2025-06-09T12-48-05.709892.jsonl\n",
      "nb of invalid parsing: 0\n",
      "score: 0.40333586050037906\n",
      "--------\n",
      "atlas27b_samples_gsm8k_boxed_2025-06-01T03-07-46.691518.jsonl\n",
      "nb of invalid parsing: 0\n",
      "score: 0.8233510235026535\n",
      "--------\n",
      "atlas27b_samples_gsm8k_darija_boxed_2025-06-01T02-17-44.558714.jsonl\n",
      "nb of invalid parsing: 0\n",
      "score: 0.7103866565579985\n",
      "--------\n",
      "atlas9b_samples_gsm8k_boxed_2025-06-08T15-18-05.933509.jsonl\n",
      "nb of invalid parsing: 0\n",
      "score: 0.7702805155420773\n",
      "--------\n",
      "atlas9b_samples_gsm8k_darija_boxed_2025-06-08T14-22-08.188197.jsonl\n",
      "nb of invalid parsing: 0\n",
      "score: 0.6679302501895376\n",
      "--------\n",
      "gemma327b_samples_gsm8k_boxed_2025-06-01T21-08-43.631813.jsonl\n",
      "nb of invalid parsing: 0\n",
      "score: 0.956027293404094\n",
      "--------\n",
      "gemma327b_samples_gsm8k_darija_boxed_2025-06-01T19-15-28.814912.jsonl\n",
      "nb of invalid parsing: 0\n",
      "score: 0.8271417740712661\n",
      "--------\n",
      "gemmaroc_samples_gsm8k_boxed_2025-06-01T05-30-24.708510.jsonl\n",
      "nb of invalid parsing: 0\n",
      "score: 0.9317664897649734\n",
      "--------\n",
      "gemmaroc_samples_gsm8k_darija_boxed_2025-06-01T03-40-16.247174.jsonl\n",
      "nb of invalid parsing: 0\n",
      "score: 0.844579226686884\n",
      "--------\n"
     ]
    }
   ],
   "source": [
    "import json\n",
    "for filename in os.listdir('gsm8k'):\n",
    "    filepath = os.path.join('gsm8k', filename)\n",
    "    print(filename)\n",
    "    ground_truths = []\n",
    "    llm_responses = []\n",
    "    with open(filepath, encoding=\"utf-8\") as f:\n",
    "        for line in f:\n",
    "            obj = json.loads(line)\n",
    "            ground_truths.append(obj[\"target\"])\n",
    "            llm_responses.append(obj[\"resps\"][0][0])\n",
    "\n",
    "    parsed_g = []\n",
    "    parsed_res = []\n",
    "    for i in range(len(ground_truths)):\n",
    "        parsed_g.append(parse_llm_response(ground_truths[i]))\n",
    "        #parsed_g.append(ground_truths[i])\n",
    "        try:\n",
    "            parsed_res.append(parse_llm_response(llm_responses[i]))\n",
    "        except:\n",
    "            parsed_res.append('[invalid]')\n",
    "    identic = [i for i in range(len(parsed_g)) if parsed_g[i] == parsed_res[i]]\n",
    "    non_identifc = [i for i in range(len(parsed_g)) if parsed_g[i] != parsed_res[i]]\n",
    "    parsed_g_non_identifc = [parsed_g[i] for i in non_identifc]\n",
    "    parsed_res_non_identifc = [parsed_res[i] for i in non_identifc]\n",
    "    ground_truths_non_identifc = [ground_truths[i] for i in non_identifc]\n",
    "    llm_responses_non_identifc = [llm_responses[i] for i in non_identifc]\n",
    "\n",
    "    print('nb of invalid parsing: '+str(parsed_res.count('[invalid]')))\n",
    "    print(\"score: \"+str(len(identic)/len(parsed_g)))\n",
    "    print('--------')\n",
    "    "
   ]
  },
  {
   "cell_type": "code",
   "execution_count": null,
   "id": "85d90288-b7d1-46e7-9f80-06422c1073d0",
   "metadata": {},
   "outputs": [],
   "source": []
  },
  {
   "cell_type": "code",
   "execution_count": null,
   "id": "28beb2fc-fa27-4fbf-9d56-96878b9b2f3b",
   "metadata": {},
   "outputs": [],
   "source": []
  }
 ],
 "metadata": {
  "kernelspec": {
   "display_name": "Python 3 (ipykernel)",
   "language": "python",
   "name": "python3"
  },
  "language_info": {
   "codemirror_mode": {
    "name": "ipython",
    "version": 3
   },
   "file_extension": ".py",
   "mimetype": "text/x-python",
   "name": "python",
   "nbconvert_exporter": "python",
   "pygments_lexer": "ipython3",
   "version": "3.12.7"
  }
 },
 "nbformat": 4,
 "nbformat_minor": 5
}
